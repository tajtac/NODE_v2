{
 "cells": [
  {
   "cell_type": "code",
   "execution_count": 2,
   "id": "d08d46ff-8dea-4487-b7e8-d4a406059193",
   "metadata": {},
   "outputs": [],
   "source": [
    "import numpy as np"
   ]
  },
  {
   "cell_type": "code",
   "execution_count": 3,
   "id": "941c2858-4067-44fc-9cec-974468cb64a5",
   "metadata": {},
   "outputs": [],
   "source": [
    "#The following J1_params are the weights of an actual trained NN.\n",
    "J1_params = []\n",
    "J1_params.append(np.array([[-0.32565089,  0.09557584, -1.24492353,  0.16621551,  0.36278744]]))\n",
    "J1_params.append(np.array([[ 0.32049344,  0.30403177, -0.07559029,  0.69251196,  0.01343299],\n",
    "       [-0.05100273,  0.30083267,  0.47043038,  0.44451688,  0.70463926],\n",
    "       [ 0.77196352, -0.31760346,  0.52672678, -0.87019153, -0.54845361],\n",
    "       [-0.39136874,  0.13191566,  0.48882522,  0.00603919,  0.1432638 ],\n",
    "       [-0.56983264, -0.0617164 , -0.11714302, -0.19104816,  0.5634037 ]]))\n",
    "J1_params.append(np.array([[ 0.19259209],\n",
    "       [-0.04549795],\n",
    "       [-0.13483587],\n",
    "       [-0.04654367],\n",
    "       [-0.19822153]]))"
   ]
  },
  {
   "cell_type": "markdown",
   "id": "65831664-c218-4a0f-8f4e-74f088d265a0",
   "metadata": {},
   "source": [
    "### Use 10 steps to calculate y and dyN/dy0"
   ]
  },
  {
   "cell_type": "code",
   "execution_count": 4,
   "id": "4cf91f25-08a3-42e5-ac2d-2b113109221e",
   "metadata": {},
   "outputs": [],
   "source": [
    "I1 = 3.1\n",
    "I2 = 3.1\n",
    "I4v = 0.9\n",
    "I4w = 1.05\n",
    "y = I1+I2-6\n",
    "y = np.expand_dims(y, axis=0)\n",
    "dyt2dyt = [] #dy^(t+1)/dy^t\n",
    "N = 10\n",
    "for t in range(N):\n",
    "    dt = 1/N\n",
    "    h = y\n",
    "    layer1preactiv = np.matmul(h, J1_params[0])\n",
    "    h = np.tanh(layer1preactiv)\n",
    "    layer2preactiv = np.matmul(h, J1_params[1])\n",
    "    h = np.tanh(layer2preactiv)\n",
    "    h = np.matmul(h, J1_params[2])\n",
    "    y = y + dt*h\n",
    "    \n",
    "    #Now calculate the derivative\n",
    "    d = 1.0\n",
    "    d = np.expand_dims(d, axis=0)\n",
    "    d = np.matmul(d, J1_params[0])\n",
    "    d = d*(1-np.tanh(layer1preactiv)**2) #This is the derivative of the activation function, tanh\n",
    "    d = np.matmul(d, J1_params[1])\n",
    "    d = d*(1-np.tanh(layer2preactiv)**2)\n",
    "    d = np.matmul(d, J1_params[2])\n",
    "    dyt2dyt.append(d)\n",
    "dyt2dyt = np.array(dyt2dyt)"
   ]
  },
  {
   "cell_type": "code",
   "execution_count": 5,
   "id": "77ce3fb0-3a90-4891-8f71-fda68f763daa",
   "metadata": {},
   "outputs": [
    {
     "name": "stdout",
     "output_type": "stream",
     "text": [
      "[0.13008264]\n"
     ]
    }
   ],
   "source": [
    "print(y)"
   ]
  },
  {
   "cell_type": "code",
   "execution_count": 6,
   "id": "9431b3b9-bf1f-4d69-9fda-fffc37779a69",
   "metadata": {},
   "outputs": [
    {
     "name": "stdout",
     "output_type": "stream",
     "text": [
      "[[-0.38953869]\n",
      " [-0.39268989]\n",
      " [-0.3956285 ]\n",
      " [-0.39836508]\n",
      " [-0.40091021]\n",
      " [-0.40327444]\n",
      " [-0.40546816]\n",
      " [-0.40750157]\n",
      " [-0.40938455]\n",
      " [-0.41112668]]\n"
     ]
    }
   ],
   "source": [
    "print(dyt2dyt)"
   ]
  },
  {
   "cell_type": "code",
   "execution_count": 7,
   "id": "035c3d98-c532-4908-b718-07d6a48066ea",
   "metadata": {},
   "outputs": [
    {
     "name": "stdout",
     "output_type": "stream",
     "text": [
      "dyN/dy0 when N=10\n",
      "0.6638697750317091\n"
     ]
    }
   ],
   "source": [
    "dyNdy0 = 1\n",
    "for d in dyt2dyt:\n",
    "    dyNdy0 *= 1 + dt*d\n",
    "print('dyN/dy0 when N=10')\n",
    "print(dyNdy0[0])"
   ]
  },
  {
   "cell_type": "markdown",
   "id": "a84db29e-7bd8-44c5-9363-c62d985749c8",
   "metadata": {},
   "source": [
    "### Now use 20 steps to calculate y and dyN/dy0"
   ]
  },
  {
   "cell_type": "code",
   "execution_count": 10,
   "id": "e7d58437-96bd-4fb4-b008-84c7d94538c1",
   "metadata": {},
   "outputs": [],
   "source": [
    "y = I1+I2-6\n",
    "y = np.expand_dims(y, axis=0)\n",
    "dyt2dyt = [] #dy^(t+1)/dy^t\n",
    "N = 100\n",
    "for t in range(N):\n",
    "    dt = 1/N\n",
    "    h = y\n",
    "    layer1preactiv = np.matmul(h, J1_params[0])\n",
    "    h = np.tanh(layer1preactiv)\n",
    "    layer2preactiv = np.matmul(h, J1_params[1])\n",
    "    h = np.tanh(layer2preactiv)\n",
    "    h = np.matmul(h, J1_params[2])\n",
    "    y = y + dt*h\n",
    "    \n",
    "    #Now calculate the derivative\n",
    "    d = 1.0\n",
    "    d = np.expand_dims(d, axis=0)\n",
    "    d = np.matmul(d, J1_params[0])\n",
    "    d = d*(1-np.tanh(layer1preactiv)**2)\n",
    "    d = np.matmul(d, J1_params[1])\n",
    "    d = d*(1-np.tanh(layer2preactiv)**2)\n",
    "    d = np.matmul(d, J1_params[2])\n",
    "    dyt2dyt.append(d)\n",
    "dyt2dyt = np.array(dyt2dyt)"
   ]
  },
  {
   "cell_type": "code",
   "execution_count": 11,
   "id": "998bc76c-e4ea-4df9-8799-dcb4e746632a",
   "metadata": {},
   "outputs": [
    {
     "name": "stdout",
     "output_type": "stream",
     "text": [
      "[0.13111748]\n"
     ]
    }
   ],
   "source": [
    "print(y)"
   ]
  },
  {
   "cell_type": "code",
   "execution_count": 12,
   "id": "71def5ab-3f6e-4e3f-a4b2-a8382cc66349",
   "metadata": {},
   "outputs": [
    {
     "name": "stdout",
     "output_type": "stream",
     "text": [
      "[[-0.38953869]\n",
      " [-0.38985795]\n",
      " [-0.39017506]\n",
      " [-0.39049004]\n",
      " [-0.39080289]\n",
      " [-0.39111362]\n",
      " [-0.39142225]\n",
      " [-0.39172877]\n",
      " [-0.39203322]\n",
      " [-0.39233558]\n",
      " [-0.39263588]\n",
      " [-0.39293412]\n",
      " [-0.39323031]\n",
      " [-0.39352447]\n",
      " [-0.3938166 ]\n",
      " [-0.39410671]\n",
      " [-0.39439482]\n",
      " [-0.39468093]\n",
      " [-0.39496505]\n",
      " [-0.3952472 ]\n",
      " [-0.39552738]\n",
      " [-0.39580561]\n",
      " [-0.39608189]\n",
      " [-0.39635623]\n",
      " [-0.39662865]\n",
      " [-0.39689916]\n",
      " [-0.39716776]\n",
      " [-0.39743446]\n",
      " [-0.39769928]\n",
      " [-0.39796222]\n",
      " [-0.3982233 ]\n",
      " [-0.39848253]\n",
      " [-0.39873991]\n",
      " [-0.39899545]\n",
      " [-0.39924917]\n",
      " [-0.39950108]\n",
      " [-0.39975118]\n",
      " [-0.39999949]\n",
      " [-0.40024602]\n",
      " [-0.40049077]\n",
      " [-0.40073376]\n",
      " [-0.40097499]\n",
      " [-0.40121448]\n",
      " [-0.40145224]\n",
      " [-0.40168827]\n",
      " [-0.40192259]\n",
      " [-0.40215521]\n",
      " [-0.40238613]\n",
      " [-0.40261537]\n",
      " [-0.40284293]\n",
      " [-0.40306883]\n",
      " [-0.40329308]\n",
      " [-0.40351568]\n",
      " [-0.40373664]\n",
      " [-0.40395598]\n",
      " [-0.40417371]\n",
      " [-0.40438983]\n",
      " [-0.40460435]\n",
      " [-0.40481729]\n",
      " [-0.40502865]\n",
      " [-0.40523845]\n",
      " [-0.40544669]\n",
      " [-0.40565338]\n",
      " [-0.40585853]\n",
      " [-0.40606215]\n",
      " [-0.40626426]\n",
      " [-0.40646485]\n",
      " [-0.40666395]\n",
      " [-0.40686155]\n",
      " [-0.40705768]\n",
      " [-0.40725233]\n",
      " [-0.40744552]\n",
      " [-0.40763726]\n",
      " [-0.40782755]\n",
      " [-0.4080164 ]\n",
      " [-0.40820384]\n",
      " [-0.40838985]\n",
      " [-0.40857446]\n",
      " [-0.40875767]\n",
      " [-0.40893949]\n",
      " [-0.40911993]\n",
      " [-0.409299  ]\n",
      " [-0.40947671]\n",
      " [-0.40965306]\n",
      " [-0.40982807]\n",
      " [-0.41000174]\n",
      " [-0.41017409]\n",
      " [-0.41034512]\n",
      " [-0.41051484]\n",
      " [-0.41068326]\n",
      " [-0.41085039]\n",
      " [-0.41101623]\n",
      " [-0.4111808 ]\n",
      " [-0.41134411]\n",
      " [-0.41150615]\n",
      " [-0.41166695]\n",
      " [-0.41182651]\n",
      " [-0.41198484]\n",
      " [-0.41214194]\n",
      " [-0.41229782]]\n"
     ]
    }
   ],
   "source": [
    "print(dyt2dyt)"
   ]
  },
  {
   "cell_type": "code",
   "execution_count": 13,
   "id": "642331aa-3f3d-41ad-975b-fb00006e770c",
   "metadata": {},
   "outputs": [
    {
     "name": "stdout",
     "output_type": "stream",
     "text": [
      "dyN/dy0 when N=20\n",
      "0.6682618378676898\n"
     ]
    }
   ],
   "source": [
    "dyNdy0 = 1\n",
    "for d in dyt2dyt:\n",
    "    dyNdy0 *= 1 + dt*d\n",
    "print('dyN/dy0 when N=20')\n",
    "print(dyNdy0[0])"
   ]
  },
  {
   "cell_type": "markdown",
   "id": "9f1038d6-d9d2-4a15-945b-97bc08b1748f",
   "metadata": {},
   "source": [
    "#### As you can see the value of dyN/dy0 depends on the number of time steps that you use. And it is essentially dyN/dy0 = (1-0.43)^N"
   ]
  },
  {
   "cell_type": "markdown",
   "id": "f03c68dc-c094-4263-bf98-39e80c3540cb",
   "metadata": {},
   "source": [
    "In this case dy^(t+1)/dy^t is < 0 so dyNdy0 is shrinking instead of growing, but you can see that we are essentially multiplying the same (1-0.43) with itself N times. And as you can see dy^(t+1)/dy^t does not depend on y for small values of y."
   ]
  }
 ],
 "metadata": {
  "kernelspec": {
   "display_name": "Python 3",
   "language": "python",
   "name": "python3"
  },
  "language_info": {
   "codemirror_mode": {
    "name": "ipython",
    "version": 3
   },
   "file_extension": ".py",
   "mimetype": "text/x-python",
   "name": "python",
   "nbconvert_exporter": "python",
   "pygments_lexer": "ipython3",
   "version": "3.8.5"
  }
 },
 "nbformat": 4,
 "nbformat_minor": 5
}
