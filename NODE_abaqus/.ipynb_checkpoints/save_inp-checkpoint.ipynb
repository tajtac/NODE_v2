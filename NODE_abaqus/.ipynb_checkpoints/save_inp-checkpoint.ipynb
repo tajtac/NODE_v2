{
 "cells": [
  {
   "cell_type": "markdown",
   "id": "c66ca383-6939-46f5-9206-363c934c3bad",
   "metadata": {},
   "source": [
    "## Write inputs for abaqus .inp file"
   ]
  },
  {
   "cell_type": "code",
   "execution_count": 1,
   "id": "bcca1e70-e9d6-462c-8ecd-b05e5a3bc485",
   "metadata": {},
   "outputs": [],
   "source": [
    "import numpy as np\n",
    "import pickle\n",
    "from pathlib import Path"
   ]
  },
  {
   "cell_type": "code",
   "execution_count": 2,
   "id": "83dc866e-cf59-4438-8799-e059ff1b62cb",
   "metadata": {},
   "outputs": [],
   "source": [
    "cwd = Path.cwd()\n",
    "parent = cwd.parent\n",
    "savednet = Path('savednet')\n",
    "savednet = Path(parent, savednet)"
   ]
  },
  {
   "cell_type": "code",
   "execution_count": 3,
   "id": "886eef4b-a5d5-4fb0-b7ea-2599560539e2",
   "metadata": {},
   "outputs": [],
   "source": [
    "fname = 'P1C1_GOH.npy'\n",
    "fname = Path(savednet, fname)\n",
    "with open(fname, 'rb') as f:\n",
    "    params = pickle.load(f)"
   ]
  },
  {
   "cell_type": "code",
   "execution_count": 4,
   "id": "eb4d0a64-113c-4f4b-bb9b-695f35148363",
   "metadata": {},
   "outputs": [],
   "source": [
    "allweights = np.zeros(1000)\n",
    "w = []\n",
    "for grp in params[:10]:\n",
    "    for arr in grp:\n",
    "        arr = arr.reshape([1,-1])\n",
    "        for weight in arr[0]:\n",
    "            w.append(weight)\n",
    "ALLweights = np.array(w)"
   ]
  },
  {
   "cell_type": "code",
   "execution_count": 5,
   "id": "4381c7f6-2367-4491-bc70-9a3c25328cfd",
   "metadata": {},
   "outputs": [],
   "source": [
    "nlayers = 4\n",
    "n_input = 1\n",
    "weight_count = 35\n",
    "bias_count = 11\n",
    "n_neuronsperlayer = np.array([1,5,5,1])\n",
    "ALLweights = ALLweights\n",
    "activtypes = np.array([3, 3, 0])\n",
    "Iweights = params[10]\n",
    "theta = params[11]\n",
    "Psi1_bias = params[12]\n",
    "Psi2_bias = params[13]\n",
    "Kvol = 1.0\n",
    "\n",
    "p = np.hstack([nlayers, n_input, weight_count, bias_count, n_neuronsperlayer, ALLweights, activtypes, Iweights, theta, Psi1_bias, Psi2_bias, Kvol])\n",
    "nprops = p.shape[0]"
   ]
  },
  {
   "cell_type": "code",
   "execution_count": 6,
   "id": "e61ba5c4-517e-4453-963c-fe8b738c9a5a",
   "metadata": {},
   "outputs": [
    {
     "data": {
      "text/plain": [
       "371"
      ]
     },
     "execution_count": 6,
     "metadata": {},
     "output_type": "execute_result"
    }
   ],
   "source": [
    "p.shape[0]"
   ]
  },
  {
   "cell_type": "code",
   "execution_count": 7,
   "id": "05096439-d150-4322-b603-b64cf7e6ac7d",
   "metadata": {},
   "outputs": [],
   "source": [
    "inpstr = []\n",
    "nrows = np.ceil(nprops/8)\n",
    "for i in range(int(nrows)):\n",
    "    i1 = i*8\n",
    "    i2 = i1+8\n",
    "    if p.shape[0] < i2:\n",
    "        l = p.shape[0]-i1\n",
    "        i2 = i1+l\n",
    "        #print(print('%.8f, '*l % tuple(p[i1:i2])))\n",
    "        inpstr.append(str('%.8f, '*l % tuple(p[i1:i2])))\n",
    "    else:\n",
    "        #print('%.8f, '*8 % tuple(p[i1:i2]))\n",
    "        inpstr.append(str('%.8f, '*8 % tuple(p[i1:i2])))\n",
    "        inpstr.append(str('\\n'))\n",
    "inpstr.append(str('\\n'))"
   ]
  },
  {
   "cell_type": "code",
   "execution_count": 8,
   "id": "c45a5aae-a7ff-4ea8-95a0-45d8be59b774",
   "metadata": {},
   "outputs": [],
   "source": [
    "folder = 'UANISO/'\n",
    "for file in [ folder+'uni.inp', folder+'she.inp', folder+'tor.inp', folder+'exp.inp', folder+'dummy.inp']:\n",
    "    #Read Abaqus input file\n",
    "    inp_hndl = open(file, 'r')\n",
    "    inp_cont = inp_hndl.read()\n",
    "    inp_hndl.close\n",
    "\n",
    "    i1 = inp_cont.find('*Anisotropic Hyperelastic')\n",
    "    i1 = i1 + inp_cont[i1:].find('\\n') + 1\n",
    "    part1 = inp_cont[:i1]\n",
    "\n",
    "    i2 = i1 + inp_cont[i1:].find('**')\n",
    "    part2 = inp_cont[i2:]\n",
    "\n",
    "    #Write to abaqus input file\n",
    "    inp_hndl = open(file, 'w')\n",
    "    inp_hndl.write(part1)\n",
    "    inp_hndl.writelines(inpstr)\n",
    "    inp_hndl.write(part2)\n",
    "    inp_hndl.close"
   ]
  },
  {
   "cell_type": "code",
   "execution_count": null,
   "id": "9de38dab-81fd-4e9e-ac09-574bf20fba31",
   "metadata": {},
   "outputs": [],
   "source": []
  }
 ],
 "metadata": {
  "kernelspec": {
   "display_name": "Python 3",
   "language": "python",
   "name": "python3"
  },
  "language_info": {
   "codemirror_mode": {
    "name": "ipython",
    "version": 3
   },
   "file_extension": ".py",
   "mimetype": "text/x-python",
   "name": "python",
   "nbconvert_exporter": "python",
   "pygments_lexer": "ipython3",
   "version": "3.8.5"
  }
 },
 "nbformat": 4,
 "nbformat_minor": 5
}
